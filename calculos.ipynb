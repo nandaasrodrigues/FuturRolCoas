{
 "cells": [
  {
   "cell_type": "code",
   "execution_count": 5,
   "metadata": {},
   "outputs": [],
   "source": [
    "import numpy as np"
   ]
  },
  {
   "cell_type": "code",
   "execution_count": 21,
   "metadata": {},
   "outputs": [],
   "source": [
    "n_control_points = 8\n",
    "\n",
    "\n",
    "control_points3 = np.random.rand(n_control_points, 3) + 0.1\n",
    "\n",
    "# control_points3 = np.array([[0, 0, 0],\n",
    "#                             [1, -.1, 0],\n",
    "#                             [1, 0, 2],\n",
    "#                             [1, .1, 0],\n",
    "#                             [2, .1, 0],\n",
    "#                             [2, 1, 0],\n",
    "#                             ])\n",
    "\n",
    "control_points3 =  control_points3 @ np.array([ [500,    0,   0], \n",
    "                                                [   0, 500,   0], \n",
    "                                                [   0,    0, 200]])\n",
    "M = np.array([[  0, -1],\n",
    "              [  1, -4]])\n",
    "              \n",
    "h = np.array([[2, 4]]).T\n",
    "n_curves = len(control_points3)"
   ]
  },
  {
   "cell_type": "code",
   "execution_count": 22,
   "metadata": {},
   "outputs": [],
   "source": [
    "control_points = np.zeros((n_curves, 4, 3))\n",
    "control_points[:, 3, :] = control_points3\n",
    "control_points[:, 0, :] = np.roll(control_points3,axis=0, shift=1)\n",
    "\n",
    "X =  np.eye(2) - np.linalg.matrix_power((M), n_curves)\n",
    "for i in range(n_curves):\n",
    "    result = 0\n",
    "    for j in range(n_curves):\n",
    "        result += np.linalg.matrix_power(M, j) @ h @ control_points3[i-j-1, :].reshape(1, 3)\n",
    "\n",
    "    control_points[i, 1:3, :] = np.linalg.solve(X, result)\n",
    "\n",
    "centered_cp = control_points - control_points.mean(axis = 0)"
   ]
  },
  {
   "cell_type": "code",
   "execution_count": 23,
   "metadata": {},
   "outputs": [],
   "source": [
    "json_str = \"const bps = [\"\n",
    "\n",
    "for cp in centered_cp:\n",
    "    json_str += f\"\"\"\n",
    "                [ \n",
    "                {{\"x\": {cp[0][0]}, \"y\": {cp[0][2]}, \"z\": {cp[0][1]} }},\n",
    "                {{\"x\": {cp[1][0]}, \"y\": {cp[1][2]}, \"z\": {cp[1][1]} }},\n",
    "                {{\"x\": {cp[2][0]}, \"y\": {cp[2][2]}, \"z\": {cp[2][1]} }},\n",
    "                {{\"x\": {cp[3][0]}, \"y\": {cp[3][2]}, \"z\": {cp[3][1]} }}\n",
    "                ],\"\"\"\n",
    "\n",
    "json_str = json_str[:-1] + \"\\n]\"\n",
    "with open(\"bezier.js\", \"w\") as f:\n",
    "    f.write(json_str)"
   ]
  },
  {
   "cell_type": "code",
   "execution_count": null,
   "metadata": {},
   "outputs": [],
   "source": []
  },
  {
   "cell_type": "code",
   "execution_count": null,
   "metadata": {},
   "outputs": [],
   "source": []
  }
 ],
 "metadata": {
  "interpreter": {
   "hash": "aa8e4de9f4426ab75fdef01f3d7947e2b3e9cfbdb80ba65115d4f20988c8517e"
  },
  "kernelspec": {
   "display_name": "Python 3.8.8 64-bit",
   "name": "python3"
  },
  "language_info": {
   "codemirror_mode": {
    "name": "ipython",
    "version": 3
   },
   "file_extension": ".py",
   "mimetype": "text/x-python",
   "name": "python",
   "nbconvert_exporter": "python",
   "pygments_lexer": "ipython3",
   "version": "3.8.8"
  },
  "orig_nbformat": 4
 },
 "nbformat": 4,
 "nbformat_minor": 2
}
